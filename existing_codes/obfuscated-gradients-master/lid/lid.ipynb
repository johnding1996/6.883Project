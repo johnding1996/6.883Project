{
 "cells": [
  {
   "cell_type": "code",
   "execution_count": 1,
   "metadata": {},
   "outputs": [
    {
     "name": "stderr",
     "output_type": "stream",
     "text": [
      "/usr/lib/python3.6/importlib/_bootstrap.py:219: RuntimeWarning: compiletime version 3.5 of module 'tensorflow.python.framework.fast_tensor_util' does not match runtime version 3.6\n",
      "  return f(*args, **kwds)\n",
      "/usr/local/lib/python3.6/dist-packages/h5py/__init__.py:36: FutureWarning: Conversion of the second argument of issubdtype from `float` to `np.floating` is deprecated. In future, it will be treated as `np.float64 == np.dtype(float).type`.\n",
      "  from ._conv import register_converters as _register_converters\n",
      "Using TensorFlow backend.\n"
     ]
    }
   ],
   "source": [
    "import tensorflow as tf\n",
    "import numpy as np\n",
    "import matplotlib.pyplot as plt\n",
    "%matplotlib inline\n",
    "from keras.models import load_model\n",
    "import keras.backend as K\n",
    "from util import get_model\n",
    "from extract_artifacts import get_lid\n",
    "import collections\n",
    "from detect_adv_samples import detect\n",
    "\n",
    "\n",
    "import cifar10_input"
   ]
  },
  {
   "cell_type": "code",
   "execution_count": 2,
   "metadata": {},
   "outputs": [],
   "source": [
    "model = get_model(\"cifar\", softmax=True)\n",
    "model.load_weights(\"data/lid_model_cifar.h5\")\n",
    "model_logits = get_model(\"cifar\", softmax=False)\n",
    "model_logits.load_weights(\"data/lid_model_cifar.h5\")\n"
   ]
  },
  {
   "cell_type": "code",
   "execution_count": 3,
   "metadata": {},
   "outputs": [],
   "source": [
    "class Attack:\n",
    "    def __init__(self, model, tol, num_steps, step_size, random_start):\n",
    "        self.model = model\n",
    "        self.tol = tol\n",
    "        self.num_steps = num_steps\n",
    "        self.step_size = step_size\n",
    "        self.rand = random_start\n",
    "\n",
    "        self.xs = tf.Variable(np.zeros((1000, 32, 32, 3), dtype=np.float32),\n",
    "                                    name='modifier')\n",
    "        self.orig_xs = tf.placeholder(tf.float32, [None, 32, 32, 3])\n",
    "\n",
    "        self.ys = tf.placeholder(tf.int32, [None])\n",
    "\n",
    "        self.epsilon = 8.0/255\n",
    "\n",
    "        delta = tf.clip_by_value(self.xs, 0, 255) - self.orig_xs\n",
    "        delta = tf.clip_by_value(delta, -self.epsilon, self.epsilon)\n",
    "\n",
    "        self.do_clip_xs = tf.assign(self.xs, self.orig_xs+delta)\n",
    "\n",
    "        self.logits = logits = model(self.xs)\n",
    "\n",
    "        label_mask = tf.one_hot(self.ys, 10)\n",
    "        correct_logit = tf.reduce_sum(label_mask * logits, axis=1)\n",
    "        wrong_logit = tf.reduce_max((1-label_mask) * logits - 1e4*label_mask, axis=1)\n",
    "\n",
    "        self.loss = (correct_logit - wrong_logit)\n",
    "\n",
    "        start_vars = set(x.name for x in tf.global_variables())\n",
    "        optimizer = tf.train.AdamOptimizer(step_size*1)\n",
    "\n",
    "        grad,var = optimizer.compute_gradients(self.loss, [self.xs])[0]\n",
    "        self.train = optimizer.apply_gradients([(tf.sign(grad),var)])\n",
    "\n",
    "        end_vars = tf.global_variables()\n",
    "        self.new_vars = [x for x in end_vars if x.name not in start_vars]\n",
    "\n",
    "    def perturb(self, x, y, sess):\n",
    "        sess.run(tf.variables_initializer(self.new_vars))\n",
    "        sess.run(self.xs.initializer)\n",
    "        sess.run(self.do_clip_xs,\n",
    "                 {self.orig_xs: x})\n",
    "\n",
    "        for i in range(self.num_steps):\n",
    "\n",
    "            sess.run(self.train, feed_dict={self.ys: y})\n",
    "            sess.run(self.do_clip_xs,\n",
    "                     {self.orig_xs: x})\n",
    "\n",
    "        return sess.run(self.xs)\n",
    "\n",
    "cifar = cifar10_input.CIFAR10Data(\"../cifar10_data\")\n",
    "\n",
    "sess = K.get_session()\n",
    "attack = Attack(model_logits,\n",
    "                      1,\n",
    "                      100,\n",
    "                      1/255.0,\n",
    "                      False)\n"
   ]
  },
  {
   "cell_type": "code",
   "execution_count": 4,
   "metadata": {},
   "outputs": [
    {
     "data": {
      "image/png": "[encoded data removed]",
      "text/plain": [
       "<matplotlib.figure.Figure at 0x7f8d46e822e8>"
      ]
     },
     "metadata": {},
     "output_type": "display_data"
    },
    {
     "name": "stdout",
     "output_type": "stream",
     "text": [
      "Image Label 8\n",
      "Clean Model Prediction 8\n",
      "Clean Model Logits [[ -4.3375077   0.3012276 -12.330709  -11.296892  -15.26732   -13.380332\n",
      "  -11.1896    -16.897142    8.292903   -6.16642  ]]\n"
     ]
    },
    {
     "data": {
      "image/png": "[encoded data removed]",
      "text/plain": [
       "<matplotlib.figure.Figure at 0x7f8d2ccc82b0>"
      ]
     },
     "metadata": {},
     "output_type": "display_data"
    },
    {
     "name": "stdout",
     "output_type": "stream",
     "text": [
      "Max distortion 0.03137256374546127\n",
      "Adversarial Model Prediction 1\n",
      "Adversarial Model Logits [[ -8.697777   11.830964  -14.309156  -12.301084  -18.515553  -12.888949\n",
      "  -10.960991  -18.23993    -4.2297196  -1.2803907]]\n"
     ]
    }
   ],
   "source": [
    "xs = tf.placeholder(tf.float32, (1, 32, 32, 3))\n",
    "\n",
    "image = cifar.eval_data.xs[:1000]/255.0-.5\n",
    "label = cifar.eval_data.ys[:1000]\n",
    "\n",
    "plt.imshow(image[1]+.5)\n",
    "plt.show() \n",
    "print(\"Image Label\", label[1])\n",
    "\n",
    "x_input = tf.placeholder(tf.float32, [None, 32, 32, 3])\n",
    "logits = model_logits(x_input)\n",
    "\n",
    "print('Clean Model Prediction', np.argmax(sess.run(logits, {x_input: image[1:2]})))\n",
    "print('Clean Model Logits', sess.run(logits, {x_input: image[1:2]}))\n",
    "\n",
    "\n",
    "adversarial = attack.perturb(image, label, sess)\n",
    "\n",
    "plt.imshow(adversarial[1]+.5)\n",
    "plt.show()\n",
    "\n",
    "print(\"Max distortion\", np.max(np.abs(adversarial-image)))\n",
    "\n",
    "print('Adversarial Model Prediction', np.argmax(sess.run(logits, {x_input: adversarial[1:2]})))\n",
    "print('Adversarial Model Logits', sess.run(logits, {x_input: adversarial[1:2]}))\n"
   ]
  },
  {
   "cell_type": "code",
   "execution_count": 5,
   "metadata": {},
   "outputs": [
    {
     "name": "stderr",
     "output_type": "stream",
     "text": [
      "\r",
      "  0%|          | 0/10 [00:00<?, ?it/s]"
     ]
    },
    {
     "name": "stdout",
     "output_type": "stream",
     "text": [
      "Extract local intrinsic dimensionality: k = 20\n",
      "Number of layers to estimate:  26\n",
      "0\n",
      "1\n",
      "2\n",
      "3\n",
      "4\n",
      "5\n",
      "6\n",
      "7\n",
      "8\n",
      "9\n",
      "10\n",
      "11\n",
      "12\n",
      "13\n",
      "14\n",
      "15\n",
      "16\n",
      "17\n",
      "18\n",
      "19\n",
      "20\n",
      "21\n",
      "22\n",
      "23\n",
      "24\n"
     ]
    },
    {
     "name": "stderr",
     "output_type": "stream",
     "text": [
      "\r",
      " 10%|█         | 1/10 [00:06<00:57,  6.37s/it]"
     ]
    },
    {
     "name": "stdout",
     "output_type": "stream",
     "text": [
      "25\n",
      "0\n",
      "1\n",
      "2\n",
      "3\n",
      "4\n",
      "5\n",
      "6\n",
      "7\n",
      "8\n",
      "9\n",
      "10\n",
      "11\n",
      "12\n",
      "13\n",
      "14\n",
      "15\n",
      "16\n",
      "17\n",
      "18\n",
      "19\n",
      "20\n",
      "21\n",
      "22\n",
      "23\n"
     ]
    },
    {
     "name": "stderr",
     "output_type": "stream",
     "text": [
      "\r",
      " 20%|██        | 2/10 [00:11<00:46,  5.78s/it]"
     ]
    },
    {
     "name": "stdout",
     "output_type": "stream",
     "text": [
      "24\n",
      "25\n",
      "0\n",
      "1\n",
      "2\n",
      "3\n",
      "4\n",
      "5\n",
      "6\n",
      "7\n",
      "8\n",
      "9\n",
      "10\n",
      "11\n",
      "12\n",
      "13\n",
      "14\n",
      "15\n",
      "16\n",
      "17\n",
      "18\n",
      "19\n",
      "20\n",
      "21\n",
      "22\n",
      "23\n"
     ]
    },
    {
     "name": "stderr",
     "output_type": "stream",
     "text": [
      "\r",
      " 30%|███       | 3/10 [00:16<00:39,  5.66s/it]"
     ]
    },
    {
     "name": "stdout",
     "output_type": "stream",
     "text": [
      "24\n",
      "25\n",
      "0\n",
      "1\n",
      "2\n",
      "3\n",
      "4\n",
      "5\n",
      "6\n",
      "7\n",
      "8\n",
      "9\n",
      "10\n",
      "11\n",
      "12\n",
      "13\n",
      "14\n",
      "15\n",
      "16\n",
      "17\n",
      "18\n",
      "19\n",
      "20\n",
      "21\n",
      "22\n",
      "23\n"
     ]
    },
    {
     "name": "stderr",
     "output_type": "stream",
     "text": [
      "\r",
      " 40%|████      | 4/10 [00:22<00:33,  5.65s/it]"
     ]
    },
    {
     "name": "stdout",
     "output_type": "stream",
     "text": [
      "24\n",
      "25\n",
      "0\n",
      "1\n",
      "2\n",
      "3\n",
      "4\n",
      "5\n",
      "6\n",
      "7\n",
      "8\n",
      "9\n",
      "10\n",
      "11\n",
      "12\n",
      "13\n",
      "14\n",
      "15\n",
      "16\n",
      "17\n",
      "18\n",
      "19\n",
      "20\n",
      "21\n",
      "22\n",
      "23\n",
      "24\n"
     ]
    },
    {
     "name": "stderr",
     "output_type": "stream",
     "text": [
      "\r",
      " 50%|█████     | 5/10 [00:27<00:27,  5.56s/it]"
     ]
    },
    {
     "name": "stdout",
     "output_type": "stream",
     "text": [
      "25\n",
      "0\n",
      "1\n",
      "2\n",
      "3\n",
      "4\n",
      "5\n",
      "6\n",
      "7\n",
      "8\n",
      "9\n",
      "10\n",
      "11\n",
      "12\n",
      "13\n",
      "14\n",
      "15\n",
      "16\n",
      "17\n",
      "18\n",
      "19\n",
      "20\n",
      "21\n"
     ]
    },
    {
     "name": "stderr",
     "output_type": "stream",
     "text": [
      "\r",
      " 60%|██████    | 6/10 [00:33<00:22,  5.64s/it]"
     ]
    },
    {
     "name": "stdout",
     "output_type": "stream",
     "text": [
      "22\n",
      "23\n",
      "24\n",
      "25\n",
      "0\n",
      "1\n",
      "2\n",
      "3\n",
      "4\n",
      "5\n",
      "6\n",
      "7\n",
      "8\n",
      "9\n",
      "10\n",
      "11\n",
      "12\n",
      "13\n",
      "14\n",
      "15\n",
      "16\n",
      "17\n",
      "18\n",
      "19\n",
      "20\n"
     ]
    },
    {
     "name": "stderr",
     "output_type": "stream",
     "text": [
      "\r",
      " 70%|███████   | 7/10 [00:38<00:16,  5.57s/it]"
     ]
    },
    {
     "name": "stdout",
     "output_type": "stream",
     "text": [
      "21\n",
      "22\n",
      "23\n",
      "24\n",
      "25\n",
      "0\n",
      "1\n",
      "2\n",
      "3\n",
      "4\n",
      "5\n",
      "6\n",
      "7\n",
      "8\n",
      "9\n",
      "10\n",
      "11\n",
      "12\n",
      "13\n",
      "14\n",
      "15\n",
      "16\n",
      "17\n",
      "18\n",
      "19\n",
      "20\n",
      "21\n",
      "22\n",
      "23\n",
      "24\n"
     ]
    },
    {
     "name": "stderr",
     "output_type": "stream",
     "text": [
      "\r",
      " 80%|████████  | 8/10 [00:44<00:11,  5.58s/it]"
     ]
    },
    {
     "name": "stdout",
     "output_type": "stream",
     "text": [
      "25\n",
      "0\n",
      "1\n",
      "2\n",
      "3\n",
      "4\n",
      "5\n",
      "6\n",
      "7\n",
      "8\n",
      "9\n",
      "10\n",
      "11\n",
      "12\n",
      "13\n",
      "14\n",
      "15\n",
      "16\n",
      "17\n",
      "18\n",
      "19\n",
      "20\n"
     ]
    },
    {
     "name": "stderr",
     "output_type": "stream",
     "text": [
      "\r",
      " 90%|█████████ | 9/10 [00:50<00:05,  5.62s/it]"
     ]
    },
    {
     "name": "stdout",
     "output_type": "stream",
     "text": [
      "21\n",
      "22\n",
      "23\n",
      "24\n",
      "25\n",
      "0\n",
      "1\n",
      "2\n",
      "3\n",
      "4\n",
      "5\n",
      "6\n",
      "7\n",
      "8\n",
      "9\n",
      "10\n",
      "11\n",
      "12\n",
      "13\n",
      "14\n",
      "15\n",
      "16\n",
      "17\n",
      "18\n",
      "19\n",
      "20\n",
      "21\n"
     ]
    },
    {
     "name": "stderr",
     "output_type": "stream",
     "text": [
      "\r",
      "100%|██████████| 10/10 [00:56<00:00,  5.63s/it]"
     ]
    },
    {
     "name": "stdout",
     "output_type": "stream",
     "text": [
      "22\n",
      "23\n",
      "24\n",
      "25\n",
      "lids_normal: (1000, 26)\n",
      "lids_noisy: (1000, 26)\n",
      "lids_adv: (1000, 26)\n",
      "X_pos:  (1000, 26)\n",
      "X_neg:  (2000, 26)\n"
     ]
    },
    {
     "name": "stderr",
     "output_type": "stream",
     "text": [
      "\n"
     ]
    }
   ],
   "source": [
    "artifacts, labels = get_lid(model, image, image, adversarial, 20, 100, 'cifar')"
   ]
  },
  {
   "cell_type": "code",
   "execution_count": 6,
   "metadata": {},
   "outputs": [
    {
     "name": "stdout",
     "output_type": "stream",
     "text": [
      "  -- lid\n",
      "Isolated split 80%, 20% for training and testing\n",
      "Train samples size:  (19800, 26)\n",
      "Test samples size:  (4968, 26)\n",
      "LR Detector on [dataset: cifar, train_attack: cw-l2, test_attack: cw-l2] with:\n",
      "Detector ROC-AUC score: 0.9737, accuracy: 0.9257\n",
      "Detection rate clean 0.026\n",
      "Detection rate adversarial 0.044\n"
     ]
    }
   ],
   "source": [
    "from detect_adv_samples import detect\n",
    "\n",
    "T = collections.namedtuple('args', ['dataset', 'attack', 'artifacts', 'test_attack'])\n",
    "lr, _, scaler = detect(T('cifar', 'cw-l2', 'lid', 'cw-l2'))\n",
    "\n",
    "t_artifacts = scaler.transform(artifacts)\n",
    "\n",
    "print('Detection rate clean', np.mean(lr.predict(t_artifacts[:1000])))\n",
    "print('Detection rate adversarial', np.mean(lr.predict(t_artifacts[-1000:])))"
   ]
  }
 ],
 "metadata": {
  "kernelspec": {
   "display_name": "Python 3",
   "language": "python",
   "name": "python3"
  },
  "language_info": {
   "codemirror_mode": {
    "name": "ipython",
    "version": 3
   },
   "file_extension": ".py",
   "mimetype": "text/x-python",
   "name": "python",
   "nbconvert_exporter": "python",
   "pygments_lexer": "ipython3",
   "version": "3.6.3"
  }
 },
 "nbformat": 4,
 "nbformat_minor": 2
}
