{
 "cells": [
  {
   "cell_type": "code",
   "execution_count": 1,
   "metadata": {},
   "outputs": [
    {
     "name": "stderr",
     "output_type": "stream",
     "text": [
      "/usr/lib/python3.6/importlib/_bootstrap.py:219: RuntimeWarning: compiletime version 3.5 of module 'tensorflow.python.framework.fast_tensor_util' does not match runtime version 3.6\n",
      "  return f(*args, **kwds)\n",
      "/usr/local/lib/python3.6/dist-packages/h5py/__init__.py:36: FutureWarning: Conversion of the second argument of issubdtype from `float` to `np.floating` is deprecated. In future, it will be treated as `np.float64 == np.dtype(float).type`.\n",
      "  from ._conv import register_converters as _register_converters\n"
     ]
    }
   ],
   "source": [
    "import tensorflow as tf\n",
    "import numpy as np\n",
    "import math\n",
    "import matplotlib.pyplot as plt\n",
    "%matplotlib inline\n",
    "\n",
    "import cifar10_input\n",
    "\n",
    "from discretization_utils import one_hot_to_thermometer\n",
    "from discretization_utils import discretize_uniform\n",
    "from discretization_attacks import adv_lspga\n",
    "\n",
    "from cifar_model import Model\n",
    "import cifar10_input\n",
    "levels = 16"
   ]
  },
  {
   "cell_type": "code",
   "execution_count": 2,
   "metadata": {},
   "outputs": [],
   "source": [
    "class Attack:\n",
    "    def __init__(self, model, num_steps, step_size, epsilon):\n",
    "        self.model = model\n",
    "        self.num_steps = num_steps\n",
    "        self.step_size = step_size\n",
    "\n",
    "        self.xs = tf.Variable(np.zeros((1, 32, 32, 3), dtype=np.float32),\n",
    "                                    name='modifier')\n",
    "        self.orig_xs = tf.placeholder(tf.float32, [None, 32, 32, 3])\n",
    "\n",
    "        self.ys = tf.placeholder(tf.int32, [None])\n",
    "\n",
    "        self.epsilon = epsilon\n",
    "\n",
    "        delta = tf.clip_by_value(self.xs, 0, 255) - self.orig_xs\n",
    "        delta = tf.clip_by_value(delta, -self.epsilon, self.epsilon)\n",
    "\n",
    "        self.do_clip_xs = tf.assign(self.xs, self.orig_xs+delta)\n",
    "\n",
    "        compare = tf.constant((256.0/levels)*np.arange(-1,levels-1).reshape((1,1,1,1,levels)),\n",
    "                              dtype=tf.float32)\n",
    "        inner = tf.reshape(self.xs,(-1, 32, 32, 3, 1)) - compare\n",
    "        inner = tf.maximum(tf.minimum(inner/(256.0/levels), 1.0), 0.0)\n",
    "\n",
    "        self.therm = tf.reshape(inner, (-1, 32, 32, levels*3))\n",
    "\n",
    "        self.logits = logits = model(self.therm)\n",
    "\n",
    "        self.uniform = discretize_uniform(self.xs/255.0, levels=levels, thermometer=True)\n",
    "        self.real_logits = model(self.uniform)\n",
    "\n",
    "        label_mask = tf.one_hot(self.ys, 10)\n",
    "        correct_logit = tf.reduce_sum(label_mask * logits, axis=1)\n",
    "        wrong_logit = tf.reduce_max((1-label_mask) * logits - 1e4*label_mask, axis=1)\n",
    "\n",
    "        self.loss = (correct_logit - wrong_logit)\n",
    "\n",
    "        start_vars = set(x.name for x in tf.global_variables())\n",
    "        optimizer = tf.train.AdamOptimizer(step_size*1)\n",
    "        self.grad = tf.sign(tf.gradients(self.loss, self.xs)[0])\n",
    "\n",
    "        grad,var = optimizer.compute_gradients(self.loss, [self.xs])[0]\n",
    "        self.train = optimizer.apply_gradients([(tf.sign(grad),var)])\n",
    "\n",
    "        end_vars = tf.global_variables()\n",
    "        self.new_vars = [x for x in end_vars if x.name not in start_vars]\n",
    "\n",
    "    def perturb(self, x, y, sess):\n",
    "        sess.run(tf.variables_initializer(self.new_vars))\n",
    "        sess.run(self.xs.initializer)\n",
    "        sess.run(self.do_clip_xs,\n",
    "                 {self.orig_xs: x})\n",
    "\n",
    "        for i in range(self.num_steps):\n",
    "\n",
    "            t = sess.run(self.uniform)\n",
    "            sess.run(self.train, feed_dict={self.ys: y,\n",
    "                                            self.therm: t})\n",
    "            sess.run(self.do_clip_xs,\n",
    "                     {self.orig_xs: x})\n",
    "\n",
    "        return sess.run(self.xs)"
   ]
  },
  {
   "cell_type": "code",
   "execution_count": 3,
   "metadata": {},
   "outputs": [
    {
     "name": "stdout",
     "output_type": "stream",
     "text": [
      "Called\n",
      "WARNING:tensorflow:From /home/npc/breaking-iclr-2018-defenses/release/thermometer/cifar_model.py:214: UniformUnitScaling.__init__ (from tensorflow.python.ops.init_ops) is deprecated and will be removed in a future version.\n",
      "Instructions for updating:\n",
      "Use tf.initializers.variance_scaling instead with distribution=uniform to get equivalent behavior.\n",
      "INFO:tensorflow:Restoring parameters from ../models/thermometer_advtrain/checkpoint-68000\n",
      "restored\n"
     ]
    }
   ],
   "source": [
    "sess = tf.Session()\n",
    "cifar = cifar10_input.CIFAR10Data()\n",
    "model = Model('../models/thermometer_advtrain/',\n",
    "              sess, tiny=False, mode='eval',\n",
    "              thermometer=True, levels=levels)\n",
    "attack = Attack(model,\n",
    "                30,\n",
    "                1,\n",
    "                8)"
   ]
  },
  {
   "cell_type": "code",
   "execution_count": 4,
   "metadata": {},
   "outputs": [
    {
     "data": {
      "image/png": "[encoded data removed]",
      "text/plain": [
       "<matplotlib.figure.Figure at 0x7fb396882f28>"
      ]
     },
     "metadata": {},
     "output_type": "display_data"
    },
    {
     "name": "stdout",
     "output_type": "stream",
     "text": [
      "Image Label [3]\n",
      "Clean Model Prediction [3]\n",
      "Logits [[-1.3182435  2.5834875 -5.5870852 10.171819  -5.0424666  6.116695\n",
      "  -4.9661837 -3.076646  -1.206701   2.325575 ]]\n"
     ]
    },
    {
     "data": {
      "image/png": "[encoded data removed]",
      "text/plain": [
       "<matplotlib.figure.Figure at 0x7fb3967af518>"
      ]
     },
     "metadata": {},
     "output_type": "display_data"
    },
    {
     "name": "stdout",
     "output_type": "stream",
     "text": [
      "Max distortion 0.031372577\n",
      "Adversarial Model Prediction [5]\n",
      "Logits [[-0.8225111   0.85914516 -4.7383585   1.4677212  -2.8243408  11.350895\n",
      "  -2.3103023  -3.077036   -1.6778117   1.7728287 ]]\n"
     ]
    }
   ],
   "source": [
    "xs = tf.placeholder(tf.float32, (1, 32, 32, 3))\n",
    "encode = discretize_uniform(xs/255.0, levels=levels, thermometer=True)\n",
    "\n",
    "image = np.array(cifar.eval_data.xs[:1],dtype=np.float32)\n",
    "label = cifar.eval_data.ys[:1]\n",
    "\n",
    "plt.imshow(image[0]/255.0)\n",
    "plt.show()\n",
    "print(\"Image Label\", label)\n",
    "\n",
    "thermometer_encoded = sess.run(encode, {xs: image})\n",
    "print('Clean Model Prediction',\n",
    "      sess.run(model.predictions, {model.x_input: thermometer_encoded}))\n",
    "print('Logits',\n",
    "      sess.run(model.pre_softmax, {model.x_input: thermometer_encoded}))\n",
    "\n",
    "adversarial = attack.perturb(image, label, sess)\n",
    "\n",
    "plt.imshow(image[0]/255.0)\n",
    "plt.show()\n",
    "\n",
    "print(\"Max distortion\", np.max(np.abs(adversarial/255.0-image/255.0)))\n",
    "\n",
    "thermometer_encoded = sess.run(encode, {xs: adversarial})\n",
    "print('Adversarial Model Prediction',\n",
    "      sess.run(model.predictions, {model.x_input: thermometer_encoded}))\n",
    "print('Logits',\n",
    "      sess.run(model.pre_softmax, {model.x_input: thermometer_encoded}))"
   ]
  }
 ],
 "metadata": {
  "kernelspec": {
   "display_name": "Python 3",
   "language": "python",
   "name": "python3"
  },
  "language_info": {
   "codemirror_mode": {
    "name": "ipython",
    "version": 3
   },
   "file_extension": ".py",
   "mimetype": "text/x-python",
   "name": "python",
   "nbconvert_exporter": "python",
   "pygments_lexer": "ipython3",
   "version": "3.6.3"
  }
 },
 "nbformat": 4,
 "nbformat_minor": 2
}
