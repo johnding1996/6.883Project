{
 "cells": [
  {
   "cell_type": "code",
   "execution_count": 1,
   "metadata": {},
   "outputs": [
    {
     "name": "stderr",
     "output_type": "stream",
     "text": [
      "/usr/lib/python3.6/importlib/_bootstrap.py:219: RuntimeWarning: compiletime version 3.5 of module 'tensorflow.python.framework.fast_tensor_util' does not match runtime version 3.6\n",
      "  return f(*args, **kwds)\n",
      "/usr/local/lib/python3.6/dist-packages/h5py/__init__.py:36: FutureWarning: Conversion of the second argument of issubdtype from `float` to `np.floating` is deprecated. In future, it will be treated as `np.float64 == np.dtype(float).type`.\n",
      "  from ._conv import register_converters as _register_converters\n"
     ]
    },
    {
     "name": "stdout",
     "output_type": "stream",
     "text": [
      "WARNING:tensorflow:From /home/npc/breaking-iclr-2018-defenses/release/baseline/cifar_model.py:198: UniformUnitScaling.__init__ (from tensorflow.python.ops.init_ops) is deprecated and will be removed in a future version.\n",
      "Instructions for updating:\n",
      "Use tf.initializers.variance_scaling instead with distribution=uniform to get equivalent behavior.\n",
      "INFO:tensorflow:Restoring parameters from ../models/standard/checkpoint-68000\n"
     ]
    }
   ],
   "source": [
    "import tensorflow as tf\n",
    "import numpy as np\n",
    "import matplotlib.pyplot as plt\n",
    "%matplotlib inline\n",
    "\n",
    "import cifar10_input\n",
    "\n",
    "class Attack:\n",
    "    def __init__(self, model, tol, num_steps, step_size, random_start):\n",
    "        self.model = model\n",
    "        self.tol = tol\n",
    "        self.num_steps = num_steps\n",
    "        self.step_size = step_size\n",
    "        self.rand = random_start\n",
    "\n",
    "        self.xs = tf.Variable(np.zeros((1, 32, 32, 3), dtype=np.float32),\n",
    "                                    name='modifier')\n",
    "        self.orig_xs = tf.placeholder(tf.float32, [None, 32, 32, 3])\n",
    "\n",
    "        self.ys = tf.placeholder(tf.int32, [None])\n",
    "\n",
    "        self.epsilon = 8\n",
    "\n",
    "        delta = tf.clip_by_value(self.xs, 0, 255) - self.orig_xs\n",
    "        delta = tf.clip_by_value(delta, -self.epsilon, self.epsilon)\n",
    "\n",
    "        self.do_clip_xs = tf.assign(self.xs, self.orig_xs+delta)\n",
    "\n",
    "        self.logits = logits = model(self.xs)\n",
    "\n",
    "        label_mask = tf.one_hot(self.ys, 10)\n",
    "        correct_logit = tf.reduce_sum(label_mask * logits, axis=1)\n",
    "        wrong_logit = tf.reduce_max((1-label_mask) * logits - 1e4*label_mask, axis=1)\n",
    "\n",
    "        self.loss = (correct_logit - wrong_logit)\n",
    "\n",
    "        start_vars = set(x.name for x in tf.global_variables())\n",
    "        optimizer = tf.train.AdamOptimizer(step_size*1)\n",
    "\n",
    "        grad,var = optimizer.compute_gradients(self.loss, [self.xs])[0]\n",
    "        self.train = optimizer.apply_gradients([(tf.sign(grad),var)])\n",
    "\n",
    "        end_vars = tf.global_variables()\n",
    "        self.new_vars = [x for x in end_vars if x.name not in start_vars]\n",
    "\n",
    "    def perturb(self, x, y, sess):\n",
    "        sess.run(tf.variables_initializer(self.new_vars))\n",
    "        sess.run(self.xs.initializer)\n",
    "        sess.run(self.do_clip_xs,\n",
    "                 {self.orig_xs: x})\n",
    "\n",
    "        for i in range(self.num_steps):\n",
    "\n",
    "            sess.run(self.train, feed_dict={self.ys: y})\n",
    "            sess.run(self.do_clip_xs,\n",
    "                     {self.orig_xs: x})\n",
    "\n",
    "        return sess.run(self.xs)\n",
    "\n",
    "\n",
    "from cifar_model import Model\n",
    "\n",
    "cifar = cifar10_input.CIFAR10Data(\"../cifar10_data\")\n",
    "\n",
    "sess = tf.Session()\n",
    "model = Model(\"../models/standard/\", tiny=False, mode='eval', sess=sess)\n",
    "attack = Attack(model,\n",
    "                      1,\n",
    "                      100,\n",
    "                      1,\n",
    "                      False)\n"
   ]
  },
  {
   "cell_type": "code",
   "execution_count": 2,
   "metadata": {},
   "outputs": [
    {
     "data": {
      "image/png": "[encoded data removed]",
      "text/plain": [
       "<matplotlib.figure.Figure at 0x7f78ce161278>"
      ]
     },
     "metadata": {},
     "output_type": "display_data"
    },
    {
     "name": "stdout",
     "output_type": "stream",
     "text": [
      "Image Label [3]\n",
      "Clean Model Prediction [3]\n",
      "\tLogits [[-2.943294    0.46478105 -0.8648879  19.721521   -3.7883172  -0.8003821\n",
      "  -0.39915484 -6.370495   -3.8886895  -1.1313981 ]]\n"
     ]
    },
    {
     "data": {
      "image/png": "[encoded data removed]",
      "text/plain": [
       "<matplotlib.figure.Figure at 0x7f78cc127a20>"
      ]
     },
     "metadata": {},
     "output_type": "display_data"
    },
    {
     "name": "stdout",
     "output_type": "stream",
     "text": [
      "Max distortion 0.015686304195254464\n",
      "Adversarial Model Prediction [1]\n",
      "\tLogits [[-0.9947913 26.722824  -4.859945  -8.837139  -5.355517  -1.1278083\n",
      "  -1.69133   -5.736787  -3.6843789  5.5629673]]\n"
     ]
    }
   ],
   "source": [
    "xs = tf.placeholder(tf.float32, (1, 32, 32, 3))\n",
    "\n",
    "image = cifar.eval_data.xs[:1]\n",
    "label = cifar.eval_data.ys[:1]\n",
    "\n",
    "plt.imshow(image[0]/255.0)\n",
    "plt.show()\n",
    "print(\"Image Label\", label)\n",
    "\n",
    "print('Clean Model Prediction',\n",
    "      sess.run(model.predictions, {model.x_input: image}))\n",
    "print('\\tLogits',\n",
    "      sess.run(model.pre_softmax, {model.x_input: image}))\n",
    "\n",
    "adversarial = attack.perturb(image, label, sess)\n",
    "\n",
    "plt.imshow(adversarial[0]/255.0)\n",
    "plt.show()\n",
    "\n",
    "print(\"Max distortion\", np.max(np.abs(adversarial/255.0-image/255.0)))\n",
    "\n",
    "print('Adversarial Model Prediction',\n",
    "      sess.run(model.predictions, {model.x_input: adversarial}))\n",
    "print('\\tLogits',\n",
    "      sess.run(model.pre_softmax, {model.x_input: adversarial}))\n"
   ]
  }
 ],
 "metadata": {
  "kernelspec": {
   "display_name": "Python 3",
   "language": "python",
   "name": "python3"
  },
  "language_info": {
   "codemirror_mode": {
    "name": "ipython",
    "version": 3
   },
   "file_extension": ".py",
   "mimetype": "text/x-python",
   "name": "python",
   "nbconvert_exporter": "python",
   "pygments_lexer": "ipython3",
   "version": "3.6.3"
  }
 },
 "nbformat": 4,
 "nbformat_minor": 2
}
