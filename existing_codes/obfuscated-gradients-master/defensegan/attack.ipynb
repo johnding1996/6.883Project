{
 "cells": [
  {
   "cell_type": "code",
   "execution_count": 1,
   "metadata": {},
   "outputs": [
    {
     "name": "stderr",
     "output_type": "stream",
     "text": [
      "/usr/local/lib/python3.6/dist-packages/h5py/__init__.py:36: FutureWarning: Conversion of the second argument of issubdtype from `float` to `np.floating` is deprecated. In future, it will be treated as `np.float64 == np.dtype(float).type`.\n",
      "  from ._conv import register_converters as _register_converters\n",
      "Using TensorFlow backend.\n",
      "/usr/lib/python3.6/importlib/_bootstrap.py:219: RuntimeWarning: compiletime version 3.5 of module 'tensorflow.python.framework.fast_tensor_util' does not match runtime version 3.6\n",
      "  return f(*args, **kwds)\n"
     ]
    },
    {
     "name": "stdout",
     "output_type": "stream",
     "text": [
      "Uppercase local vars:\n",
      "\tBATCH_SIZE: 64\n",
      "\tCRITIC_ITERS: 5\n",
      "\tDATA_DIR: cifar-10-batches-py\n",
      "\tDIM: 64\n",
      "\tITERS: 200000\n",
      "\tLAMBDA: 10\n",
      "\tMODE: wgan-gp\n",
      "\tOUTPUT_DIM: 748\n"
     ]
    },
    {
     "name": "stderr",
     "output_type": "stream",
     "text": [
      "/home/npc/breaking-iclr-2018-defenses/release/defensegan/tflib/plot.py:4: UserWarning: \n",
      "This call to matplotlib.use() has no effect because the backend has already\n",
      "been chosen; matplotlib.use() must be called *before* pylab, matplotlib.pyplot,\n",
      "or matplotlib.backends is imported for the first time.\n",
      "\n",
      "The backend was *originally* set to 'module://ipykernel.pylab.backend_inline' by the following code:\n",
      "  File \"/usr/lib/python3.6/runpy.py\", line 193, in _run_module_as_main\n",
      "    \"__main__\", mod_spec)\n",
      "  File \"/usr/lib/python3.6/runpy.py\", line 85, in _run_code\n",
      "    exec(code, run_globals)\n",
      "  File \"/usr/local/lib/python3.6/dist-packages/ipykernel_launcher.py\", line 16, in <module>\n",
      "    app.launch_new_instance()\n",
      "  File \"/usr/local/lib/python3.6/dist-packages/traitlets/config/application.py\", line 658, in launch_instance\n",
      "    app.start()\n",
      "  File \"/usr/local/lib/python3.6/dist-packages/ipykernel/kernelapp.py\", line 478, in start\n",
      "    self.io_loop.start()\n",
      "  File \"/usr/local/lib/python3.6/dist-packages/zmq/eventloop/ioloop.py\", line 177, in start\n",
      "    super(ZMQIOLoop, self).start()\n",
      "  File \"/usr/local/lib/python3.6/dist-packages/tornado/ioloop.py\", line 888, in start\n",
      "    handler_func(fd_obj, events)\n",
      "  File \"/usr/local/lib/python3.6/dist-packages/tornado/stack_context.py\", line 277, in null_wrapper\n",
      "    return fn(*args, **kwargs)\n",
      "  File \"/usr/local/lib/python3.6/dist-packages/zmq/eventloop/zmqstream.py\", line 440, in _handle_events\n",
      "    self._handle_recv()\n",
      "  File \"/usr/local/lib/python3.6/dist-packages/zmq/eventloop/zmqstream.py\", line 472, in _handle_recv\n",
      "    self._run_callback(callback, msg)\n",
      "  File \"/usr/local/lib/python3.6/dist-packages/zmq/eventloop/zmqstream.py\", line 414, in _run_callback\n",
      "    callback(*args, **kwargs)\n",
      "  File \"/usr/local/lib/python3.6/dist-packages/tornado/stack_context.py\", line 277, in null_wrapper\n",
      "    return fn(*args, **kwargs)\n",
      "  File \"/usr/local/lib/python3.6/dist-packages/ipykernel/kernelbase.py\", line 281, in dispatcher\n",
      "    return self.dispatch_shell(stream, msg)\n",
      "  File \"/usr/local/lib/python3.6/dist-packages/ipykernel/kernelbase.py\", line 232, in dispatch_shell\n",
      "    handler(stream, idents, msg)\n",
      "  File \"/usr/local/lib/python3.6/dist-packages/ipykernel/kernelbase.py\", line 397, in execute_request\n",
      "    user_expressions, allow_stdin)\n",
      "  File \"/usr/local/lib/python3.6/dist-packages/ipykernel/ipkernel.py\", line 208, in do_execute\n",
      "    res = shell.run_cell(code, store_history=store_history, silent=silent)\n",
      "  File \"/usr/local/lib/python3.6/dist-packages/ipykernel/zmqshell.py\", line 533, in run_cell\n",
      "    return super(ZMQInteractiveShell, self).run_cell(*args, **kwargs)\n",
      "  File \"/usr/local/lib/python3.6/dist-packages/IPython/core/interactiveshell.py\", line 2728, in run_cell\n",
      "    interactivity=interactivity, compiler=compiler, result=result)\n",
      "  File \"/usr/local/lib/python3.6/dist-packages/IPython/core/interactiveshell.py\", line 2850, in run_ast_nodes\n",
      "    if self.run_code(code, result):\n",
      "  File \"/usr/local/lib/python3.6/dist-packages/IPython/core/interactiveshell.py\", line 2910, in run_code\n",
      "    exec(code_obj, self.user_global_ns, self.user_ns)\n",
      "  File \"<ipython-input-1-a2bf05610c31>\", line 3, in <module>\n",
      "    get_ipython().run_line_magic('matplotlib', 'inline')\n",
      "  File \"/usr/local/lib/python3.6/dist-packages/IPython/core/interactiveshell.py\", line 2095, in run_line_magic\n",
      "    result = fn(*args,**kwargs)\n",
      "  File \"<decorator-gen-107>\", line 2, in matplotlib\n",
      "  File \"/usr/local/lib/python3.6/dist-packages/IPython/core/magic.py\", line 187, in <lambda>\n",
      "    call = lambda f, *a, **k: f(*a, **k)\n",
      "  File \"/usr/local/lib/python3.6/dist-packages/IPython/core/magics/pylab.py\", line 99, in matplotlib\n",
      "    gui, backend = self.shell.enable_matplotlib(args.gui)\n",
      "  File \"/usr/local/lib/python3.6/dist-packages/IPython/core/interactiveshell.py\", line 2978, in enable_matplotlib\n",
      "    pt.activate_matplotlib(backend)\n",
      "  File \"/usr/local/lib/python3.6/dist-packages/IPython/core/pylabtools.py\", line 308, in activate_matplotlib\n",
      "    matplotlib.pyplot.switch_backend(backend)\n",
      "  File \"/usr/local/lib/python3.6/dist-packages/matplotlib/pyplot.py\", line 229, in switch_backend\n",
      "    matplotlib.use(newbackend, warn=False, force=True)\n",
      "  File \"/usr/local/lib/python3.6/dist-packages/matplotlib/__init__.py\", line 1305, in use\n",
      "    reload(sys.modules['matplotlib.backends'])\n",
      "  File \"/usr/lib/python3.6/importlib/__init__.py\", line 166, in reload\n",
      "    _bootstrap._exec(spec, module)\n",
      "  File \"/usr/local/lib/python3.6/dist-packages/matplotlib/backends/__init__.py\", line 14, in <module>\n",
      "    line for line in traceback.format_stack()\n",
      "\n",
      "\n",
      "  matplotlib.use('Agg')\n"
     ]
    }
   ],
   "source": [
    "from keras.datasets import mnist\n",
    "import matplotlib\n",
    "%matplotlib inline\n",
    "import matplotlib.pyplot as plt\n",
    "import l2_attack\n",
    "import keras\n",
    "from defense import *"
   ]
  },
  {
   "cell_type": "code",
   "execution_count": 36,
   "metadata": {},
   "outputs": [
    {
     "name": "stdout",
     "output_type": "stream",
     "text": [
      "INFO:tensorflow:Restoring parameters from data/mnist-gan\n"
     ]
    }
   ],
   "source": [
    "xin = tf.placeholder(tf.float32, [30, 128])\n",
    "\n",
    "session = keras.backend.get_session()\n",
    "mygan = Generator(30, xin)\n",
    "\n",
    "keras.backend.set_learning_phase(False)\n",
    "model = keras.models.load_model(\"data/mnist\")\n",
    "\n",
    "touse = [x for x in tf.trainable_variables() if 'Generator' in x.name]\n",
    "saver = tf.train.Saver(touse)\n",
    "saver.restore(session, 'data/mnist-gan')\n",
    "\n",
    "(x_train, y_train), (x_test, y_test) = mnist.load_data()\n",
    "x_test = np.array(x_test, dtype=np.float32)\n",
    "x_test = x_test.reshape(x_test.shape[0], 28, 28, 1)\n",
    "x_test /= 255.0\n",
    "\n",
    "# 1. solve the inversion problem                                                                                                                                                               \n",
    "attack1 = l2_attack.CarliniL2(session, model,\n",
    "                              lambda x: Generator(30, x),\n",
    "                              binary_search_steps=1,\n",
    "                              max_iterations=3000,\n",
    "                              learning_rate=1e-1,\n",
    "                              batch_size=30,\n",
    "                              initial_const=0, targeted=None)\n",
    "\n",
    "# 2. start there, make it adversarial                                                                                                                                                          \n",
    "attack2 = l2_attack.CarliniL2(session, model,\n",
    "                              lambda x: Generator(1, x),\n",
    "                              binary_search_steps=5,\n",
    "                              max_iterations=30000,\n",
    "                              learning_rate=1e-1,\n",
    "                              batch_size=1,\n",
    "                              initial_const=1, targeted=False,\n",
    "                              noise=False, abort_early=False)\n",
    "\n"
   ]
  },
  {
   "cell_type": "code",
   "execution_count": 37,
   "metadata": {},
   "outputs": [
    {
     "name": "stdout",
     "output_type": "stream",
     "text": [
      "True label 7\n",
      "Preds [1.6938514e-10 1.3955403e-09 2.7626102e-08 6.7454486e-09 1.8495294e-11\n",
      " 2.6476297e-12 3.8272108e-15 1.0000000e+00 1.4897807e-10 3.1801388e-08]\n"
     ]
    },
    {
     "data": {
      "image/png": "[encoded data removed]",
      "text/plain": [
       "<matplotlib.figure.Figure at 0x7f4caf6924e0>"
      ]
     },
     "metadata": {},
     "output_type": "display_data"
    },
    {
     "name": "stdout",
     "output_type": "stream",
     "text": [
      "go up to 30\n",
      "tick 0\n",
      "0 (2432.6292, 0.0, 2432.6292)\n",
      "300 (502.9569, 0.0, 502.9569)\n",
      "600 (349.51617, 0.0, 349.51617)\n",
      "900 (258.3728, 0.0, 258.3728)\n",
      "1200 (220.48898, 0.0, 220.48898)\n",
      "1500 (197.11635, 0.0, 197.11635)\n",
      "1800 (194.07309, 0.0, 194.07309)\n",
      "2100 (195.30502, 0.0, 195.30502)\n",
      "Distortions [1.0220878  0.58228964 0.55365056 0.54344624 0.5649742  0.6303622\n",
      " 0.5772201  6.4478126  0.49785718 0.47770494 3.5144331  4.0635424\n",
      " 0.5902556  0.49813095 0.6383693  1.0731678  1.5267377  0.5667313\n",
      " 0.6503684  0.7180907  3.6054301  0.724195   0.55820054 0.5623124\n",
      " 0.5928712  0.5313421  7.0777335  6.8217735  0.5583353  1.9701285 ]\n",
      "[0.47770503]\n",
      "0.47770503\n",
      "go up to 1\n",
      "tick 0\n",
      "0 (30.579285, 15.625917, 14.953367)\n",
      "3000 (9.258236, 2.9225073, 6.335729)\n",
      "6000 (7.9955707, 1.9565449, 6.039026)\n",
      "9000 (7.799505, 1.7343303, 6.065175)\n",
      "12000 (7.644734, 1.7233443, 5.9213896)\n",
      "15000 (7.5863695, 1.7746711, 5.8116984)\n",
      "18000 (7.45922, 1.1011176, 6.3581023)\n",
      "21000 (7.966723, 1.2656093, 6.7011137)\n",
      "24000 (7.3408127, 1.2134784, 6.127334)\n",
      "27000 (7.1139655, 0.7819357, 6.33203)\n",
      "0 (22.76661, 7.812936, 14.953672)\n",
      "3000 (7.706114, 6.600591, 1.1055228)\n",
      "6000 (6.601842, 3.877757, 2.7240849)\n",
      "9000 (6.194556, 3.5572724, 2.6372838)\n",
      "12000 (13.086184, 5.4662695, 7.6199145)\n",
      "15000 (7.1409745, 3.9709637, 3.1700108)\n",
      "18000 (6.062763, 3.4227767, 2.6399868)\n",
      "21000 (6.012773, 3.2277362, 2.7850368)\n",
      "24000 (6.0792837, 3.3442378, 2.7350457)\n",
      "27000 (6.261285, 3.330782, 2.9305031)\n",
      "0 (26.673035, 11.719407, 14.953629)\n",
      "3000 (8.697334, 4.7437983, 3.9535358)\n",
      "6000 (7.8541894, 2.9574275, 4.896762)\n",
      "9000 (7.806363, 2.6932547, 5.1131086)\n",
      "12000 (7.4800525, 2.4821382, 4.9979143)\n",
      "15000 (7.293256, 2.550732, 4.7425237)\n",
      "18000 (7.1762147, 2.422092, 4.7541227)\n",
      "21000 (7.1302614, 2.4728794, 4.657382)\n",
      "24000 (7.0027566, 1.8052368, 5.19752)\n",
      "27000 (6.893376, 1.7276219, 5.165754)\n",
      "0 (28.626251, 13.672648, 14.953602)\n",
      "3000 (8.9664345, 3.241744, 5.724691)\n",
      "6000 (8.09859, 2.7244005, 5.3741894)\n",
      "9000 (7.578577, 1.9225215, 5.6560555)\n",
      "12000 (7.4311314, 2.0457854, 5.385346)\n",
      "15000 (7.326516, 1.9840128, 5.3425035)\n",
      "18000 (7.2769527, 2.174906, 5.102047)\n",
      "21000 (7.06579, 1.8297794, 5.2360106)\n",
      "24000 (7.098954, 1.0420557, 6.0568986)\n",
      "27000 (7.1158876, 1.2811346, 5.834753)\n",
      "0 (27.649643, 12.696026, 14.953617)\n",
      "3000 (8.963454, 3.5867536, 5.376701)\n",
      "6000 (8.761538, 4.3339076, 4.4276295)\n",
      "9000 (7.4816594, 2.5750217, 4.9066377)\n",
      "12000 (7.294253, 2.2810397, 5.013213)\n",
      "15000 (7.1392193, 2.362933, 4.776286)\n",
      "18000 (7.0612106, 2.1920362, 4.8691745)\n",
      "21000 (6.9600396, 1.9237329, 5.036307)\n",
      "24000 (6.85896, 1.7806109, 5.078349)\n",
      "27000 (11.380661, 5.064404, 6.3162565)\n",
      "L2 Distortion 3.098996424507671\n",
      "Preds [4.5056841e-03 5.9941120e-04 5.2971667e-01 2.5744768e-02 8.4707898e-07\n",
      " 3.4520439e-05 1.5332565e-06 4.3885079e-01 5.3645344e-04 9.2977516e-06]\n"
     ]
    },
    {
     "data": {
      "image/png": "[encoded data removed]",
      "text/plain": [
       "<matplotlib.figure.Figure at 0x7f4caf692cc0>"
      ]
     },
     "metadata": {},
     "output_type": "display_data"
    }
   ],
   "source": [
    "print(\"True label\", y_test[0])\n",
    "print(\"Preds\",model.predict(x_test)[0])\n",
    "plt.imshow(x_test[0,:,:,0])\n",
    "plt.show()\n",
    "\n",
    "res = attack1.attack([x_test[0]]*30,\n",
    "                     [np.eye(10)[0]]*30)\n",
    "\n",
    "start = session.run(attack1.modifier)\n",
    "it = session.run(mygan, {xin: start})\n",
    "distortion = np.sum((it-[x_test[0]]*30)**2,(1,2,3))**.5\n",
    "print(\"Distortions\", distortion)\n",
    "start = np.array([start[np.argmin(distortion)]])\n",
    "\n",
    "res = session.run(Generator(1,\n",
    "                            tf.constant(start, dtype=tf.float32)))\n",
    "print(np.sum((res-x_test[:1])**2,(1,2,3))**.5)\n",
    "print(np.mean(np.sum((res-x_test[:1])**2,(1,2,3))**.5))\n",
    "\n",
    "res = attack2.attack(x_test[:1],\n",
    "                    [np.eye(10)[q] for q in y_test[:1]],\n",
    "                    start)\n",
    "\n",
    "print(\"L2 Distortion\", np.sum((res-x_test[:1])**2)**.5)\n",
    "\n",
    "print(\"Preds\",model.predict(res)[0])\n",
    "plt.imshow(res[0,:,:,0])\n",
    "plt.show()"
   ]
  },
  {
   "cell_type": "code",
   "execution_count": null,
   "metadata": {},
   "outputs": [],
   "source": []
  }
 ],
 "metadata": {
  "kernelspec": {
   "display_name": "Python 3",
   "language": "python",
   "name": "python3"
  },
  "language_info": {
   "codemirror_mode": {
    "name": "ipython",
    "version": 3
   },
   "file_extension": ".py",
   "mimetype": "text/x-python",
   "name": "python",
   "nbconvert_exporter": "python",
   "pygments_lexer": "ipython3",
   "version": "3.6.3"
  }
 },
 "nbformat": 4,
 "nbformat_minor": 2
}
